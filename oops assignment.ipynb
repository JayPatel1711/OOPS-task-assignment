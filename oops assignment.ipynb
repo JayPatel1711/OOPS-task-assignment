{
  "metadata": {
    "kernelspec": {
      "name": "python",
      "display_name": "Python (Pyodide)",
      "language": "python"
    },
    "language_info": {
      "codemirror_mode": {
        "name": "python",
        "version": 3
      },
      "file_extension": ".py",
      "mimetype": "text/x-python",
      "name": "python",
      "nbconvert_exporter": "python",
      "pygments_lexer": "ipython3",
      "version": "3.8"
    }
  },
  "nbformat_minor": 5,
  "nbformat": 4,
  "cells": [
    {
      "id": "198c2ae6-8761-4436-9153-906398c3d08f",
      "cell_type": "code",
      "source": "#Answer 1:\nclass vehicle:\n\n    def __init__(self,name_of_vehicle,max_speed,average_of_vehicle):\n        self.name_of_vehicle = name_of_vehicle\n        self.max_speed = max_speed\n        self.average_of_vehicle = average_of_vehicle",
      "metadata": {
        "trusted": true
      },
      "outputs": [],
      "execution_count": 4
    },
    {
      "id": "f7aa889e-b048-42e5-9fb4-a7e96fdcb685",
      "cell_type": "code",
      "source": "#Answer 2:\nclass Car(vehicle):\n    def seating_capacity(self,capacity):\n        return f\"{name_of_vehicle}has aseating capacity of {capacity}.\"",
      "metadata": {
        "trusted": true
      },
      "outputs": [],
      "execution_count": 7
    },
    {
      "id": "9c1c0931-1c1c-4735-89bb-287893315c99",
      "cell_type": "code",
      "source": "#Answer 3:Multiple Inheritance is a feature in object-oriented programming where a class can inherit attributes and methods from more than one parent class.\nclass Engine:\n    def start(self):\n        return \"Engine started.\"\n\nclass Electricalsystem:\n    def power_on(self):\n        return \"Electric system power on.\"\n\nclass Hybridcar(Engine,Electricalsystem):\n    def drive(self):\n        return \"Hybrid car is driving.\"",
      "metadata": {
        "trusted": true
      },
      "outputs": [],
      "execution_count": 16
    },
    {
      "id": "03e7fa1a-ad4b-4096-9d2e-da26463e8b56",
      "cell_type": "code",
      "source": "#Answer 4: Getter and Setters are methods used to access and modify the attribute of a class, respectively.They provide a way to encapsulate the \n#attribute and control hoe they are accessed and modified.\nclass Temperature:\n\n    def __init__(self,celsius):\n        self.__celsius = celsius\n\n    def get_celsius(self,value):\n        if value < -273.15:\n            raise ValueError (\"Temperature cannot be below absolute zero.\")\n        self.__celsius = value",
      "metadata": {
        "trusted": true
      },
      "outputs": [],
      "execution_count": 18
    },
    {
      "id": "d6c2d2a6-0219-429a-b8d9-7079d9a190e2",
      "cell_type": "code",
      "source": "#Answer 5:Method overriding is a feature in object-oriented programming where a subclass provide a specific implementation for a method that is already\n#defined in its superclass.When the method is called on an object of the subclass,the subclass's implementation is executed instead of the superclass's\nclass Animal:\n    def speak(self):\n        return \"Animal speaks.\"\n\nclass Dog(Animal):\n    def speak(self):\n        return \"Dog barks.\"",
      "metadata": {
        "trusted": true
      },
      "outputs": [],
      "execution_count": 19
    }
  ]
}